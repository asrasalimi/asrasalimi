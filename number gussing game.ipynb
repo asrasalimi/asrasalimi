{
  "cells": [
    {
      "cell_type": "markdown",
      "metadata": {
        "id": "view-in-github",
        "colab_type": "text"
      },
      "source": [
        "<a href=\"https://colab.research.google.com/github/asrasalimi/asrasalimi/blob/main/number%20gussing%20game.ipynb\" target=\"_parent\"><img src=\"https://colab.research.google.com/assets/colab-badge.svg\" alt=\"Open In Colab\"/></a>"
      ]
    },
    {
      "cell_type": "code",
      "execution_count": null,
      "metadata": {
        "colab": {
          "background_save": true,
          "base_uri": "https://localhost:8080/"
        },
        "id": "vDLyWsyOjeQI",
        "outputId": "f3b01596-617d-4db9-9ccd-2ecbc80a3654"
      },
      "outputs": [
        {
          "name": "stdout",
          "output_type": "stream",
          "text": [
            "Too high. Try again!\n",
            "Too high. Try again!\n",
            "Too low. Try again!\n",
            "Too low. Try again!\n",
            "Too low. Try again!\n"
          ]
        }
      ],
      "source": [
        "import random\n",
        "\n",
        "# Function to generate the secret number\n",
        "def generate_secret_number():\n",
        "    # Ask the user for the lower and upper bounds\n",
        "    lower_bound = int(input(\"Enter the lower bound of the range: \"))\n",
        "    upper_bound = int(input(\"Enter the upper bound of the range: \"))\n",
        "\n",
        "    # Validate the inputs\n",
        "    if lower_bound >= upper_bound:\n",
        "        print(\"The lower bound cannot be greater than or equal to the upper bound.\")\n",
        "        return None\n",
        "\n",
        "    # Generate the secret number within the given range\n",
        "    return random.randint(lower_bound, upper_bound)\n",
        "\n",
        "# Function to get the player's guess\n",
        "def get_player_guess():\n",
        "    return int(input(\"Guess a number within the given range: \"))\n",
        "\n",
        "# Function to check the guess against the secret number\n",
        "def check_guess(guess, secret_number):\n",
        "    if guess > secret_number:\n",
        "        return \"Too high.\"\n",
        "    elif guess < secret_number:\n",
        "        return \"Too low.\"\n",
        "    else:\n",
        "        return \"Correct\"\n",
        "\n",
        "# Main game loop\n",
        "def play_game():\n",
        "    secret_number = generate_secret_number()\n",
        "    if secret_number is None:\n",
        "        print(\"Please enter valid lower and upper bounds.\")\n",
        "        return\n",
        "\n",
        "    attempts = 0\n",
        "    won = False\n",
        "\n",
        "    while True:\n",
        "        attempts += 1\n",
        "        guess = get_player_guess()\n",
        "\n",
        "        result = check_guess(guess, secret_number)\n",
        "\n",
        "        if result == \"Correct\":\n",
        "            print(\"Congratulations! You guessed the secret number in {} attempts.\".format(attempts))\n",
        "            won = True\n",
        "            break\n",
        "        else:\n",
        "            print(\"{} Try again!\".format(result))\n",
        "\n",
        "    if not won:\n",
        "        print(\"Sorry, you ran out of attempts! The secret number was {}.\".format(secret_number))\n",
        "\n",
        "# Start the game\n",
        "play_game()\n"
      ]
    }
  ],
  "metadata": {
    "colab": {
      "provenance": [],
      "authorship_tag": "ABX9TyPCpMo62YCh+ePDrRwe7xs7",
      "include_colab_link": true
    },
    "kernelspec": {
      "display_name": "Python 3",
      "name": "python3"
    },
    "language_info": {
      "name": "python"
    }
  },
  "nbformat": 4,
  "nbformat_minor": 0
}